{
 "cells": [
  {
   "cell_type": "code",
   "execution_count": 1,
   "id": "7076957b",
   "metadata": {},
   "outputs": [],
   "source": [
    "seq = [(1,2,3),(4,5,6),(8,9,0)]"
   ]
  },
  {
   "cell_type": "code",
   "execution_count": 2,
   "id": "e371615e",
   "metadata": {},
   "outputs": [
    {
     "name": "stdout",
     "output_type": "stream",
     "text": [
      "a1, b2, c3\n",
      "a4, b5, c6\n",
      "a8, b9, c0\n"
     ]
    }
   ],
   "source": [
    "for a, b, c in seq:\n",
    "    print('a{0}, b{1}, c{2}'.format(a, b, c))"
   ]
  },
  {
   "cell_type": "markdown",
   "id": "835c04a2",
   "metadata": {},
   "source": [
    "pluck a element from begining of tuple"
   ]
  },
  {
   "cell_type": "code",
   "execution_count": 3,
   "id": "258a4a27",
   "metadata": {},
   "outputs": [],
   "source": [
    "values = 1,2,3,4,5,6"
   ]
  },
  {
   "cell_type": "code",
   "execution_count": 4,
   "id": "0fcde02a",
   "metadata": {},
   "outputs": [],
   "source": [
    "a,s,d, *rest = values"
   ]
  },
  {
   "cell_type": "code",
   "execution_count": 5,
   "id": "98a7eaf1",
   "metadata": {},
   "outputs": [
    {
     "data": {
      "text/plain": [
       "(1, 2)"
      ]
     },
     "execution_count": 5,
     "metadata": {},
     "output_type": "execute_result"
    }
   ],
   "source": [
    "a,s"
   ]
  },
  {
   "cell_type": "code",
   "execution_count": 6,
   "id": "17ce7c0f",
   "metadata": {},
   "outputs": [
    {
     "data": {
      "text/plain": [
       "3"
      ]
     },
     "execution_count": 6,
     "metadata": {},
     "output_type": "execute_result"
    }
   ],
   "source": [
    "d"
   ]
  },
  {
   "cell_type": "code",
   "execution_count": 7,
   "id": "862a1868",
   "metadata": {},
   "outputs": [
    {
     "data": {
      "text/plain": [
       "[4, 5, 6]"
      ]
     },
     "execution_count": 7,
     "metadata": {},
     "output_type": "execute_result"
    }
   ],
   "source": [
    "rest"
   ]
  },
  {
   "cell_type": "code",
   "execution_count": 8,
   "id": "c54a0637",
   "metadata": {},
   "outputs": [],
   "source": [
    "#tuple methods\n",
    "a = (1,1,1,1,22,22,22,22,5,5,5,5,6,9,8)"
   ]
  },
  {
   "cell_type": "code",
   "execution_count": 9,
   "id": "4cea0921",
   "metadata": {},
   "outputs": [
    {
     "data": {
      "text/plain": [
       "4"
      ]
     },
     "execution_count": 9,
     "metadata": {},
     "output_type": "execute_result"
    }
   ],
   "source": [
    "a.count(22)"
   ]
  },
  {
   "cell_type": "code",
   "execution_count": 10,
   "id": "171093f3",
   "metadata": {},
   "outputs": [
    {
     "data": {
      "text/plain": [
       "4"
      ]
     },
     "execution_count": 10,
     "metadata": {},
     "output_type": "execute_result"
    }
   ],
   "source": [
    "a.count(1)"
   ]
  },
  {
   "cell_type": "code",
   "execution_count": 11,
   "id": "004aff7a",
   "metadata": {},
   "outputs": [
    {
     "data": {
      "text/plain": [
       "1"
      ]
     },
     "execution_count": 11,
     "metadata": {},
     "output_type": "execute_result"
    }
   ],
   "source": [
    "a.count(8)"
   ]
  },
  {
   "cell_type": "code",
   "execution_count": 12,
   "id": "f3667f1f",
   "metadata": {},
   "outputs": [],
   "source": [
    "### list \n",
    "## list are the variable-length and their contents can be modified in-place\n",
    "a_list = [2,3,None]\n",
    "tup = ('food', 'bar', 'baz')"
   ]
  },
  {
   "cell_type": "code",
   "execution_count": 13,
   "id": "20a2a243",
   "metadata": {},
   "outputs": [],
   "source": [
    "b_list = list(tup)"
   ]
  },
  {
   "cell_type": "code",
   "execution_count": 14,
   "id": "c6d58531",
   "metadata": {},
   "outputs": [
    {
     "data": {
      "text/plain": [
       "['food', 'bar', 'baz']"
      ]
     },
     "execution_count": 14,
     "metadata": {},
     "output_type": "execute_result"
    }
   ],
   "source": [
    "b_list"
   ]
  },
  {
   "cell_type": "code",
   "execution_count": 15,
   "id": "85622e4b",
   "metadata": {},
   "outputs": [],
   "source": [
    "b_list[0] = 'choco'"
   ]
  },
  {
   "cell_type": "code",
   "execution_count": 16,
   "id": "1eeb84f3",
   "metadata": {},
   "outputs": [
    {
     "data": {
      "text/plain": [
       "['choco', 'bar', 'baz']"
      ]
     },
     "execution_count": 16,
     "metadata": {},
     "output_type": "execute_result"
    }
   ],
   "source": [
    "b_list"
   ]
  },
  {
   "cell_type": "code",
   "execution_count": 17,
   "id": "16db2341",
   "metadata": {},
   "outputs": [],
   "source": [
    "\n",
    "gen = range(20)"
   ]
  },
  {
   "cell_type": "code",
   "execution_count": 18,
   "id": "c4cbb3c4",
   "metadata": {},
   "outputs": [
    {
     "data": {
      "text/plain": [
       "[0, 1, 2, 3, 4, 5, 6, 7, 8, 9, 10, 11, 12, 13, 14, 15, 16, 17, 18, 19]"
      ]
     },
     "execution_count": 18,
     "metadata": {},
     "output_type": "execute_result"
    }
   ],
   "source": [
    "list(gen)"
   ]
  },
  {
   "cell_type": "code",
   "execution_count": 19,
   "id": "558bada6",
   "metadata": {},
   "outputs": [],
   "source": [
    "## append to the end of the list\n",
    "a_list.append(5)"
   ]
  },
  {
   "cell_type": "code",
   "execution_count": 20,
   "id": "21e7008a",
   "metadata": {},
   "outputs": [
    {
     "data": {
      "text/plain": [
       "[2, 3, None, 5]"
      ]
     },
     "execution_count": 20,
     "metadata": {},
     "output_type": "execute_result"
    }
   ],
   "source": [
    "a_list"
   ]
  },
  {
   "cell_type": "code",
   "execution_count": 21,
   "id": "35d71f8a",
   "metadata": {},
   "outputs": [],
   "source": [
    "a_list[2] = 4"
   ]
  },
  {
   "cell_type": "code",
   "execution_count": 22,
   "id": "8ee3e6c7",
   "metadata": {},
   "outputs": [
    {
     "data": {
      "text/plain": [
       "[2, 3, 4, 5]"
      ]
     },
     "execution_count": 22,
     "metadata": {},
     "output_type": "execute_result"
    }
   ],
   "source": [
    "a_list"
   ]
  },
  {
   "cell_type": "code",
   "execution_count": 23,
   "id": "27d96f0c",
   "metadata": {},
   "outputs": [],
   "source": [
    "b_list.append('dwarf')"
   ]
  },
  {
   "cell_type": "code",
   "execution_count": 24,
   "id": "ee7bfc7c",
   "metadata": {},
   "outputs": [
    {
     "data": {
      "text/plain": [
       "['choco', 'bar', 'baz', 'dwarf']"
      ]
     },
     "execution_count": 24,
     "metadata": {},
     "output_type": "execute_result"
    }
   ],
   "source": [
    "b_list"
   ]
  },
  {
   "cell_type": "code",
   "execution_count": 25,
   "id": "5b1fd447",
   "metadata": {},
   "outputs": [],
   "source": [
    "#insert\n",
    "b_list.insert(0,'foo')"
   ]
  },
  {
   "cell_type": "code",
   "execution_count": 26,
   "id": "1a2b024a",
   "metadata": {},
   "outputs": [
    {
     "data": {
      "text/plain": [
       "['foo', 'choco', 'bar', 'baz', 'dwarf']"
      ]
     },
     "execution_count": 26,
     "metadata": {},
     "output_type": "execute_result"
    }
   ],
   "source": [
    "b_list"
   ]
  },
  {
   "cell_type": "code",
   "execution_count": 27,
   "id": "0eae7995",
   "metadata": {},
   "outputs": [
    {
     "data": {
      "text/plain": [
       "'bar'"
      ]
     },
     "execution_count": 27,
     "metadata": {},
     "output_type": "execute_result"
    }
   ],
   "source": [
    "#### pop\n",
    "b_list.pop(2)"
   ]
  },
  {
   "cell_type": "code",
   "execution_count": 28,
   "id": "75f02179",
   "metadata": {},
   "outputs": [
    {
     "data": {
      "text/plain": [
       "['foo', 'choco', 'baz', 'dwarf']"
      ]
     },
     "execution_count": 28,
     "metadata": {},
     "output_type": "execute_result"
    }
   ],
   "source": [
    "b_list"
   ]
  },
  {
   "cell_type": "markdown",
   "id": "bb06bcf3",
   "metadata": {},
   "source": [
    " element can be removed by using with remove"
   ]
  },
  {
   "cell_type": "code",
   "execution_count": 29,
   "id": "176bd531",
   "metadata": {},
   "outputs": [],
   "source": [
    "a_list.remove(5)"
   ]
  },
  {
   "cell_type": "code",
   "execution_count": 30,
   "id": "92df1fce",
   "metadata": {},
   "outputs": [
    {
     "data": {
      "text/plain": [
       "[2, 3, 4]"
      ]
     },
     "execution_count": 30,
     "metadata": {},
     "output_type": "execute_result"
    }
   ],
   "source": [
    "a_list"
   ]
  },
  {
   "cell_type": "code",
   "execution_count": 31,
   "id": "e0f0cd10",
   "metadata": {},
   "outputs": [],
   "source": [
    "b_list.insert(5,'zoo')"
   ]
  },
  {
   "cell_type": "code",
   "execution_count": 32,
   "id": "15a2c6f7",
   "metadata": {},
   "outputs": [
    {
     "data": {
      "text/plain": [
       "['foo', 'choco', 'baz', 'dwarf', 'zoo']"
      ]
     },
     "execution_count": 32,
     "metadata": {},
     "output_type": "execute_result"
    }
   ],
   "source": [
    "b_list"
   ]
  },
  {
   "cell_type": "code",
   "execution_count": 33,
   "id": "6df5bb92",
   "metadata": {},
   "outputs": [
    {
     "data": {
      "text/plain": [
       "True"
      ]
     },
     "execution_count": 33,
     "metadata": {},
     "output_type": "execute_result"
    }
   ],
   "source": [
    "#### check is a list contains a value using the in keyword\n",
    "'foo' in b_list"
   ]
  },
  {
   "cell_type": "code",
   "execution_count": 34,
   "id": "91f85c2d",
   "metadata": {},
   "outputs": [
    {
     "data": {
      "text/plain": [
       "False"
      ]
     },
     "execution_count": 34,
     "metadata": {},
     "output_type": "execute_result"
    }
   ],
   "source": [
    "2 in b_list"
   ]
  },
  {
   "cell_type": "code",
   "execution_count": 35,
   "id": "08db2779",
   "metadata": {},
   "outputs": [],
   "source": [
    "#### concatenating and combining"
   ]
  },
  {
   "cell_type": "code",
   "execution_count": 36,
   "id": "b536f963",
   "metadata": {},
   "outputs": [
    {
     "data": {
      "text/plain": [
       "[4, 3, 5, 'suuu', 'goal']"
      ]
     },
     "execution_count": 36,
     "metadata": {},
     "output_type": "execute_result"
    }
   ],
   "source": [
    "[4,3,5] + ['suuu','goal']"
   ]
  },
  {
   "cell_type": "code",
   "execution_count": 37,
   "id": "ee5445d2",
   "metadata": {},
   "outputs": [],
   "source": [
    "##we can use extend for append\n",
    "x = ['ss','ee','rr']\n",
    "x.extend([5,7,9])"
   ]
  },
  {
   "cell_type": "code",
   "execution_count": 38,
   "id": "0dd9844e",
   "metadata": {},
   "outputs": [
    {
     "data": {
      "text/plain": [
       "['ss', 'ee', 'rr', 5, 7, 9]"
      ]
     },
     "execution_count": 38,
     "metadata": {},
     "output_type": "execute_result"
    }
   ],
   "source": [
    "x"
   ]
  },
  {
   "cell_type": "code",
   "execution_count": 39,
   "id": "13577ba3",
   "metadata": {},
   "outputs": [],
   "source": [
    "### sorting\n",
    "a = [2,4,1,8,0]"
   ]
  },
  {
   "cell_type": "code",
   "execution_count": 40,
   "id": "d9db0518",
   "metadata": {},
   "outputs": [],
   "source": [
    "a.sort()"
   ]
  },
  {
   "cell_type": "code",
   "execution_count": 41,
   "id": "dcd617b2",
   "metadata": {},
   "outputs": [
    {
     "data": {
      "text/plain": [
       "[0, 1, 2, 4, 8]"
      ]
     },
     "execution_count": 41,
     "metadata": {},
     "output_type": "execute_result"
    }
   ],
   "source": [
    "a\n"
   ]
  },
  {
   "cell_type": "code",
   "execution_count": 42,
   "id": "3a6c5f4d",
   "metadata": {},
   "outputs": [],
   "source": [
    "r = ['you','can', 'search']"
   ]
  },
  {
   "cell_type": "code",
   "execution_count": 43,
   "id": "a3348e05",
   "metadata": {},
   "outputs": [],
   "source": [
    "r.sort(key=len)"
   ]
  },
  {
   "cell_type": "code",
   "execution_count": 44,
   "id": "592d5b5d",
   "metadata": {},
   "outputs": [
    {
     "data": {
      "text/plain": [
       "['you', 'can', 'search']"
      ]
     },
     "execution_count": 44,
     "metadata": {},
     "output_type": "execute_result"
    }
   ],
   "source": [
    "r"
   ]
  },
  {
   "cell_type": "code",
   "execution_count": 45,
   "id": "09cecfa9",
   "metadata": {},
   "outputs": [],
   "source": [
    "r.insert(3,'anything')"
   ]
  },
  {
   "cell_type": "code",
   "execution_count": 46,
   "id": "99911d36",
   "metadata": {},
   "outputs": [
    {
     "data": {
      "text/plain": [
       "['you', 'can', 'search', 'anything']"
      ]
     },
     "execution_count": 46,
     "metadata": {},
     "output_type": "execute_result"
    }
   ],
   "source": [
    "r"
   ]
  },
  {
   "cell_type": "code",
   "execution_count": 47,
   "id": "58d7cba2",
   "metadata": {},
   "outputs": [
    {
     "data": {
      "text/plain": [
       "'you'"
      ]
     },
     "execution_count": 47,
     "metadata": {},
     "output_type": "execute_result"
    }
   ],
   "source": [
    "r.pop(0)"
   ]
  },
  {
   "cell_type": "code",
   "execution_count": 48,
   "id": "fa38839f",
   "metadata": {},
   "outputs": [],
   "source": [
    "r.append('he')"
   ]
  },
  {
   "cell_type": "code",
   "execution_count": 49,
   "id": "7353aea3",
   "metadata": {},
   "outputs": [
    {
     "data": {
      "text/plain": [
       "['can', 'search', 'anything', 'he']"
      ]
     },
     "execution_count": 49,
     "metadata": {},
     "output_type": "execute_result"
    }
   ],
   "source": [
    "r"
   ]
  },
  {
   "cell_type": "code",
   "execution_count": 50,
   "id": "c30744fd",
   "metadata": {},
   "outputs": [],
   "source": [
    "r.sort(key=len)"
   ]
  },
  {
   "cell_type": "code",
   "execution_count": 51,
   "id": "7b9ccd3a",
   "metadata": {},
   "outputs": [
    {
     "data": {
      "text/plain": [
       "['he', 'can', 'search', 'anything']"
      ]
     },
     "execution_count": 51,
     "metadata": {},
     "output_type": "execute_result"
    }
   ],
   "source": [
    "r"
   ]
  },
  {
   "cell_type": "code",
   "execution_count": 52,
   "id": "b4200968",
   "metadata": {},
   "outputs": [],
   "source": [
    "import bisect"
   ]
  },
  {
   "cell_type": "code",
   "execution_count": 53,
   "id": "aa49a8b5",
   "metadata": {},
   "outputs": [],
   "source": [
    "c = [2,4,5,5,5,5,4]"
   ]
  },
  {
   "cell_type": "code",
   "execution_count": 54,
   "id": "641aeac7",
   "metadata": {},
   "outputs": [
    {
     "data": {
      "text/plain": [
       "1"
      ]
     },
     "execution_count": 54,
     "metadata": {},
     "output_type": "execute_result"
    }
   ],
   "source": [
    "bisect.bisect(c,3)"
   ]
  },
  {
   "cell_type": "code",
   "execution_count": 55,
   "id": "3936950e",
   "metadata": {},
   "outputs": [
    {
     "data": {
      "text/plain": [
       "0"
      ]
     },
     "execution_count": 55,
     "metadata": {},
     "output_type": "execute_result"
    }
   ],
   "source": [
    "bisect.bisect(c,1)"
   ]
  },
  {
   "cell_type": "code",
   "execution_count": 56,
   "id": "8478a332",
   "metadata": {},
   "outputs": [
    {
     "data": {
      "text/plain": [
       "7"
      ]
     },
     "execution_count": 56,
     "metadata": {},
     "output_type": "execute_result"
    }
   ],
   "source": [
    "bisect.bisect(c,5)"
   ]
  },
  {
   "cell_type": "code",
   "execution_count": 57,
   "id": "8807c1ce",
   "metadata": {},
   "outputs": [
    {
     "data": {
      "text/plain": [
       "2"
      ]
     },
     "execution_count": 57,
     "metadata": {},
     "output_type": "execute_result"
    }
   ],
   "source": [
    "bisect.bisect(c,4)"
   ]
  },
  {
   "cell_type": "code",
   "execution_count": 58,
   "id": "321d23f7",
   "metadata": {},
   "outputs": [],
   "source": [
    "bisect.insort(c,5)"
   ]
  },
  {
   "cell_type": "code",
   "execution_count": 59,
   "id": "a37b45f9",
   "metadata": {},
   "outputs": [
    {
     "data": {
      "text/plain": [
       "[2, 4, 5, 5, 5, 5, 4, 5]"
      ]
     },
     "execution_count": 59,
     "metadata": {},
     "output_type": "execute_result"
    }
   ],
   "source": [
    "c"
   ]
  },
  {
   "cell_type": "code",
   "execution_count": 60,
   "id": "a2d272aa",
   "metadata": {},
   "outputs": [],
   "source": [
    "bisect.insort(c,3)"
   ]
  },
  {
   "cell_type": "code",
   "execution_count": 61,
   "id": "114d2b11",
   "metadata": {},
   "outputs": [
    {
     "data": {
      "text/plain": [
       "[2, 3, 4, 5, 5, 5, 5, 4, 5]"
      ]
     },
     "execution_count": 61,
     "metadata": {},
     "output_type": "execute_result"
    }
   ],
   "source": [
    "c"
   ]
  },
  {
   "cell_type": "code",
   "execution_count": 62,
   "id": "6074be95",
   "metadata": {},
   "outputs": [
    {
     "data": {
      "text/plain": [
       "5"
      ]
     },
     "execution_count": 62,
     "metadata": {},
     "output_type": "execute_result"
    }
   ],
   "source": [
    "c.pop(5)"
   ]
  }
 ],
 "metadata": {
  "kernelspec": {
   "display_name": "Python 3 (ipykernel)",
   "language": "python",
   "name": "python3"
  },
  "language_info": {
   "codemirror_mode": {
    "name": "ipython",
    "version": 3
   },
   "file_extension": ".py",
   "mimetype": "text/x-python",
   "name": "python",
   "nbconvert_exporter": "python",
   "pygments_lexer": "ipython3",
   "version": "3.9.7"
  }
 },
 "nbformat": 4,
 "nbformat_minor": 5
}
