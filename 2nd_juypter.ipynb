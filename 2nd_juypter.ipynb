{
 "cells": [
  {
   "cell_type": "code",
   "execution_count": 1,
   "id": "81b1453e",
   "metadata": {},
   "outputs": [],
   "source": [
    "#slicing\n",
    "seq = [7,8,9,3,4,5,6,7,8]"
   ]
  },
  {
   "cell_type": "code",
   "execution_count": 2,
   "id": "0db24a64",
   "metadata": {},
   "outputs": [
    {
     "data": {
      "text/plain": [
       "[7, 8, 9, 3]"
      ]
     },
     "execution_count": 2,
     "metadata": {},
     "output_type": "execute_result"
    }
   ],
   "source": [
    "seq[0:4]"
   ]
  },
  {
   "cell_type": "code",
   "execution_count": 3,
   "id": "a016f0d5",
   "metadata": {},
   "outputs": [],
   "source": [
    "seq[3:4] = [0,2,1]"
   ]
  },
  {
   "cell_type": "code",
   "execution_count": 4,
   "id": "5388dba4",
   "metadata": {},
   "outputs": [
    {
     "data": {
      "text/plain": [
       "[7, 8, 9, 0, 2, 1, 4, 5, 6, 7, 8]"
      ]
     },
     "execution_count": 4,
     "metadata": {},
     "output_type": "execute_result"
    }
   ],
   "source": [
    "seq"
   ]
  },
  {
   "cell_type": "code",
   "execution_count": 5,
   "id": "ce08d303",
   "metadata": {},
   "outputs": [],
   "source": [
    "seq[2:5] = [3,44,5]"
   ]
  },
  {
   "cell_type": "code",
   "execution_count": 6,
   "id": "e9671c41",
   "metadata": {},
   "outputs": [
    {
     "data": {
      "text/plain": [
       "[7, 8, 3, 44, 5, 1, 4, 5, 6, 7, 8]"
      ]
     },
     "execution_count": 6,
     "metadata": {},
     "output_type": "execute_result"
    }
   ],
   "source": [
    "seq\n"
   ]
  },
  {
   "cell_type": "code",
   "execution_count": 7,
   "id": "93749a25",
   "metadata": {},
   "outputs": [
    {
     "data": {
      "text/plain": [
       "[7, 8, 3, 44]"
      ]
     },
     "execution_count": 7,
     "metadata": {},
     "output_type": "execute_result"
    }
   ],
   "source": [
    "seq[:4]"
   ]
  },
  {
   "cell_type": "code",
   "execution_count": 8,
   "id": "f92a5a23",
   "metadata": {},
   "outputs": [
    {
     "data": {
      "text/plain": [
       "[8, 3, 44, 5, 1, 4, 5, 6, 7, 8]"
      ]
     },
     "execution_count": 8,
     "metadata": {},
     "output_type": "execute_result"
    }
   ],
   "source": [
    "seq[1:]"
   ]
  },
  {
   "cell_type": "code",
   "execution_count": 9,
   "id": "8141298f",
   "metadata": {},
   "outputs": [
    {
     "data": {
      "text/plain": [
       "[8]"
      ]
     },
     "execution_count": 9,
     "metadata": {},
     "output_type": "execute_result"
    }
   ],
   "source": [
    "seq[-1:]"
   ]
  },
  {
   "cell_type": "code",
   "execution_count": 10,
   "id": "125935d1",
   "metadata": {},
   "outputs": [
    {
     "data": {
      "text/plain": [
       "[]"
      ]
     },
     "execution_count": 10,
     "metadata": {},
     "output_type": "execute_result"
    }
   ],
   "source": [
    "seq[-1:-6]"
   ]
  },
  {
   "cell_type": "code",
   "execution_count": 11,
   "id": "8a8cbad1",
   "metadata": {},
   "outputs": [
    {
     "data": {
      "text/plain": [
       "[7, 3, 5, 4, 6, 8]"
      ]
     },
     "execution_count": 11,
     "metadata": {},
     "output_type": "execute_result"
    }
   ],
   "source": [
    "seq[::2]"
   ]
  },
  {
   "cell_type": "code",
   "execution_count": 12,
   "id": "463d6236",
   "metadata": {},
   "outputs": [
    {
     "data": {
      "text/plain": [
       "[7, 8, 3, 44, 5, 1, 4, 5, 6, 7, 8]"
      ]
     },
     "execution_count": 12,
     "metadata": {},
     "output_type": "execute_result"
    }
   ],
   "source": [
    "seq[::1]"
   ]
  },
  {
   "cell_type": "code",
   "execution_count": 13,
   "id": "3c89bdc7",
   "metadata": {},
   "outputs": [
    {
     "data": {
      "text/plain": [
       "[8, 7, 6, 5, 4, 1, 5, 44, 3, 8, 7]"
      ]
     },
     "execution_count": 13,
     "metadata": {},
     "output_type": "execute_result"
    }
   ],
   "source": [
    "seq[::-1]"
   ]
  },
  {
   "cell_type": "code",
   "execution_count": 14,
   "id": "34e2ca13",
   "metadata": {},
   "outputs": [
    {
     "data": {
      "text/plain": [
       "[7, 8, 3, 44, 5, 1, 4, 5, 6, 7, 8]"
      ]
     },
     "execution_count": 14,
     "metadata": {},
     "output_type": "execute_result"
    }
   ],
   "source": [
    "seq"
   ]
  },
  {
   "cell_type": "code",
   "execution_count": 15,
   "id": "e166e5ea",
   "metadata": {},
   "outputs": [],
   "source": [
    "some_list = ['foo','bar','baz']"
   ]
  },
  {
   "cell_type": "code",
   "execution_count": 16,
   "id": "5181fef4",
   "metadata": {},
   "outputs": [],
   "source": [
    "mapping = {}"
   ]
  },
  {
   "cell_type": "code",
   "execution_count": 17,
   "id": "9f9848ce",
   "metadata": {},
   "outputs": [],
   "source": [
    "for i,v in enumerate(some_list):\n",
    "    mapping[v] = i"
   ]
  },
  {
   "cell_type": "code",
   "execution_count": 18,
   "id": "f9e29786",
   "metadata": {},
   "outputs": [
    {
     "data": {
      "text/plain": [
       "{'foo': 0, 'bar': 1, 'baz': 2}"
      ]
     },
     "execution_count": 18,
     "metadata": {},
     "output_type": "execute_result"
    }
   ],
   "source": [
    "mapping"
   ]
  },
  {
   "cell_type": "markdown",
   "id": "e3094824",
   "metadata": {},
   "source": [
    "sort function returns"
   ]
  },
  {
   "cell_type": "code",
   "execution_count": 19,
   "id": "6252f9c2",
   "metadata": {},
   "outputs": [
    {
     "data": {
      "text/plain": [
       "[1, 2, 3, 4, 5, 6, 8]"
      ]
     },
     "execution_count": 19,
     "metadata": {},
     "output_type": "execute_result"
    }
   ],
   "source": [
    "sorted([1,3,4,5,6,8,2])"
   ]
  },
  {
   "cell_type": "code",
   "execution_count": 20,
   "id": "bd54cb40",
   "metadata": {},
   "outputs": [
    {
     "data": {
      "text/plain": [
       "[' ', 'a', 'a', 'j', 'l', 'o', 'o', 'r', 's', 't', 'w']"
      ]
     },
     "execution_count": 20,
     "metadata": {},
     "output_type": "execute_result"
    }
   ],
   "source": [
    "sorted('saroj lawot')"
   ]
  },
  {
   "cell_type": "code",
   "execution_count": 21,
   "id": "0cfd7a61",
   "metadata": {},
   "outputs": [],
   "source": [
    "seq1 = ['hehe','haha','huhu']"
   ]
  },
  {
   "cell_type": "code",
   "execution_count": 22,
   "id": "c91e5caf",
   "metadata": {},
   "outputs": [],
   "source": [
    "seq2 = ['good','alright','normal']"
   ]
  },
  {
   "cell_type": "code",
   "execution_count": 23,
   "id": "419afc59",
   "metadata": {},
   "outputs": [],
   "source": [
    "zipped = zip(seq1,seq2)"
   ]
  },
  {
   "cell_type": "code",
   "execution_count": 24,
   "id": "05e1f677",
   "metadata": {},
   "outputs": [
    {
     "data": {
      "text/plain": [
       "[('hehe', 'good'), ('haha', 'alright'), ('huhu', 'normal')]"
      ]
     },
     "execution_count": 24,
     "metadata": {},
     "output_type": "execute_result"
    }
   ],
   "source": [
    "list(zipped)"
   ]
  },
  {
   "cell_type": "code",
   "execution_count": 25,
   "id": "babffc21",
   "metadata": {},
   "outputs": [],
   "source": [
    "seq3 = [True,False,None]"
   ]
  },
  {
   "cell_type": "code",
   "execution_count": 26,
   "id": "adbbae94",
   "metadata": {},
   "outputs": [
    {
     "data": {
      "text/plain": [
       "[('hehe', 'good', True), ('haha', 'alright', False), ('huhu', 'normal', None)]"
      ]
     },
     "execution_count": 26,
     "metadata": {},
     "output_type": "execute_result"
    }
   ],
   "source": [
    "list(zip(seq1,seq2,seq3))"
   ]
  },
  {
   "cell_type": "code",
   "execution_count": 27,
   "id": "2b0b7418",
   "metadata": {},
   "outputs": [
    {
     "name": "stdout",
     "output_type": "stream",
     "text": [
      "0: hehe, good, True\n",
      "1: haha, alright, False\n",
      "2: huhu, normal, None\n"
     ]
    }
   ],
   "source": [
    "for i ,(a, b, c) in enumerate(zip(seq1, seq2, seq3)):\n",
    "    print('{0}: {1}, {2}, {3}'.format(i, a, b, c))"
   ]
  },
  {
   "cell_type": "code",
   "execution_count": 28,
   "id": "80fde40f",
   "metadata": {},
   "outputs": [],
   "source": [
    "pitch = [('hehe', 'good'), ('haha', 'alright'), ('huhu', 'normal')]"
   ]
  },
  {
   "cell_type": "code",
   "execution_count": 29,
   "id": "32f4d86e",
   "metadata": {},
   "outputs": [],
   "source": [
    "#### unzip\n",
    "fst, lst = zip(*pitch)"
   ]
  },
  {
   "cell_type": "code",
   "execution_count": 30,
   "id": "31f18b18",
   "metadata": {},
   "outputs": [
    {
     "data": {
      "text/plain": [
       "('hehe', 'haha', 'huhu')"
      ]
     },
     "execution_count": 30,
     "metadata": {},
     "output_type": "execute_result"
    }
   ],
   "source": [
    "fst"
   ]
  },
  {
   "cell_type": "code",
   "execution_count": 31,
   "id": "e1e80b17",
   "metadata": {},
   "outputs": [
    {
     "data": {
      "text/plain": [
       "('good', 'alright', 'normal')"
      ]
     },
     "execution_count": 31,
     "metadata": {},
     "output_type": "execute_result"
    }
   ],
   "source": [
    "lst"
   ]
  },
  {
   "cell_type": "code",
   "execution_count": 32,
   "id": "b2355bac",
   "metadata": {},
   "outputs": [
    {
     "data": {
      "text/plain": [
       "[19, 18, 17, 16, 15, 14, 13, 12, 11, 10, 9, 8, 7, 6, 5, 4, 3, 2, 1, 0]"
      ]
     },
     "execution_count": 32,
     "metadata": {},
     "output_type": "execute_result"
    }
   ],
   "source": [
    "list(reversed(range(20)))"
   ]
  },
  {
   "cell_type": "code",
   "execution_count": 33,
   "id": "b47ee605",
   "metadata": {},
   "outputs": [],
   "source": [
    "##### DICT\n",
    "empty_dict = {}\n",
    "d1 = {'a':'some value','b':[1,3,4]}"
   ]
  },
  {
   "cell_type": "code",
   "execution_count": 34,
   "id": "ac461208",
   "metadata": {},
   "outputs": [
    {
     "data": {
      "text/plain": [
       "{'a': 'some value', 'b': [1, 3, 4]}"
      ]
     },
     "execution_count": 34,
     "metadata": {},
     "output_type": "execute_result"
    }
   ],
   "source": [
    "d1"
   ]
  },
  {
   "cell_type": "code",
   "execution_count": 35,
   "id": "4dab2123",
   "metadata": {},
   "outputs": [],
   "source": [
    "d1[2] = 'alu'"
   ]
  },
  {
   "cell_type": "code",
   "execution_count": 36,
   "id": "d7281967",
   "metadata": {},
   "outputs": [
    {
     "data": {
      "text/plain": [
       "[1, 3, 4]"
      ]
     },
     "execution_count": 36,
     "metadata": {},
     "output_type": "execute_result"
    }
   ],
   "source": [
    "d1['b']"
   ]
  },
  {
   "cell_type": "code",
   "execution_count": 37,
   "id": "b3826114",
   "metadata": {},
   "outputs": [
    {
     "data": {
      "text/plain": [
       "{'a': 'some value', 'b': [1, 3, 4], 2: 'alu'}"
      ]
     },
     "execution_count": 37,
     "metadata": {},
     "output_type": "execute_result"
    }
   ],
   "source": [
    "d1"
   ]
  },
  {
   "cell_type": "code",
   "execution_count": 38,
   "id": "05738fba",
   "metadata": {},
   "outputs": [
    {
     "data": {
      "text/plain": [
       "True"
      ]
     },
     "execution_count": 38,
     "metadata": {},
     "output_type": "execute_result"
    }
   ],
   "source": [
    "#### check if dict contain key\n",
    "'b' in d1"
   ]
  },
  {
   "cell_type": "code",
   "execution_count": 39,
   "id": "bdad9c57",
   "metadata": {},
   "outputs": [
    {
     "data": {
      "text/plain": [
       "False"
      ]
     },
     "execution_count": 39,
     "metadata": {},
     "output_type": "execute_result"
    }
   ],
   "source": [
    "3 in d1"
   ]
  },
  {
   "cell_type": "code",
   "execution_count": 40,
   "id": "7ab2ee77",
   "metadata": {},
   "outputs": [],
   "source": [
    "d1['c']= 'alu'"
   ]
  },
  {
   "cell_type": "code",
   "execution_count": 41,
   "id": "c3534fd3",
   "metadata": {},
   "outputs": [
    {
     "data": {
      "text/plain": [
       "{'a': 'some value', 'b': [1, 3, 4], 2: 'alu', 'c': 'alu'}"
      ]
     },
     "execution_count": 41,
     "metadata": {},
     "output_type": "execute_result"
    }
   ],
   "source": [
    "d1"
   ]
  },
  {
   "cell_type": "code",
   "execution_count": 42,
   "id": "2e26da04",
   "metadata": {},
   "outputs": [],
   "source": [
    "# del delete the key and values\n",
    "del d1['c']"
   ]
  },
  {
   "cell_type": "code",
   "execution_count": 43,
   "id": "81c58dbc",
   "metadata": {},
   "outputs": [
    {
     "data": {
      "text/plain": [
       "{'a': 'some value', 'b': [1, 3, 4], 2: 'alu'}"
      ]
     },
     "execution_count": 43,
     "metadata": {},
     "output_type": "execute_result"
    }
   ],
   "source": [
    "d1"
   ]
  },
  {
   "cell_type": "code",
   "execution_count": 44,
   "id": "aa1d81e2",
   "metadata": {},
   "outputs": [],
   "source": [
    "d1[3]: 'dummy'"
   ]
  },
  {
   "cell_type": "code",
   "execution_count": 45,
   "id": "5d68d203",
   "metadata": {},
   "outputs": [],
   "source": [
    "ret = d1.pop('a')"
   ]
  },
  {
   "cell_type": "code",
   "execution_count": 46,
   "id": "a0a214d4",
   "metadata": {},
   "outputs": [
    {
     "data": {
      "text/plain": [
       "'some value'"
      ]
     },
     "execution_count": 46,
     "metadata": {},
     "output_type": "execute_result"
    }
   ],
   "source": [
    "ret"
   ]
  },
  {
   "cell_type": "code",
   "execution_count": 47,
   "id": "739b09cf",
   "metadata": {},
   "outputs": [
    {
     "data": {
      "text/plain": [
       "{'b': [1, 3, 4], 2: 'alu'}"
      ]
     },
     "execution_count": 47,
     "metadata": {},
     "output_type": "execute_result"
    }
   ],
   "source": [
    "d1"
   ]
  },
  {
   "cell_type": "code",
   "execution_count": 48,
   "id": "7597e38c",
   "metadata": {},
   "outputs": [
    {
     "data": {
      "text/plain": [
       "[[1, 3, 4], 'alu']"
      ]
     },
     "execution_count": 48,
     "metadata": {},
     "output_type": "execute_result"
    }
   ],
   "source": [
    "list(d1.values())"
   ]
  },
  {
   "cell_type": "code",
   "execution_count": 49,
   "id": "e79432bb",
   "metadata": {},
   "outputs": [],
   "source": [
    "d1.update({'a': [12,23], 1 : 'bull'})"
   ]
  },
  {
   "cell_type": "code",
   "execution_count": 50,
   "id": "a6713eaf",
   "metadata": {},
   "outputs": [
    {
     "data": {
      "text/plain": [
       "{'b': [1, 3, 4], 2: 'alu', 'a': [12, 23], 1: 'bull'}"
      ]
     },
     "execution_count": 50,
     "metadata": {},
     "output_type": "execute_result"
    }
   ],
   "source": [
    "d1"
   ]
  },
  {
   "cell_type": "code",
   "execution_count": 51,
   "id": "be4c58c4",
   "metadata": {},
   "outputs": [],
   "source": [
    "### creating dicts from sequence\n",
    "mapping = dict(zip(range(8),reversed(range(8))))"
   ]
  },
  {
   "cell_type": "code",
   "execution_count": 52,
   "id": "b486ff9d",
   "metadata": {},
   "outputs": [
    {
     "data": {
      "text/plain": [
       "{0: 7, 1: 6, 2: 5, 3: 4, 4: 3, 5: 2, 6: 1, 7: 0}"
      ]
     },
     "execution_count": 52,
     "metadata": {},
     "output_type": "execute_result"
    }
   ],
   "source": [
    "mapping"
   ]
  },
  {
   "cell_type": "code",
   "execution_count": 53,
   "id": "79d018e3",
   "metadata": {},
   "outputs": [],
   "source": [
    " words = ['saroj','susan','apple','ball','atom']"
   ]
  },
  {
   "cell_type": "code",
   "execution_count": 54,
   "id": "cb4114cb",
   "metadata": {},
   "outputs": [],
   "source": [
    "by_letter ={}"
   ]
  },
  {
   "cell_type": "code",
   "execution_count": 55,
   "id": "1d13accc",
   "metadata": {},
   "outputs": [],
   "source": [
    "for word in words:\n",
    "    letter =word[0]\n",
    "    if letter not in by_letter:\n",
    "        by_letter[letter] = [word]\n",
    "    else:\n",
    "        by_letter[letter].append(word)"
   ]
  },
  {
   "cell_type": "code",
   "execution_count": 56,
   "id": "801b451d",
   "metadata": {},
   "outputs": [
    {
     "data": {
      "text/plain": [
       "{'s': ['saroj', 'susan'], 'a': ['apple', 'atom'], 'b': ['ball']}"
      ]
     },
     "execution_count": 56,
     "metadata": {},
     "output_type": "execute_result"
    }
   ],
   "source": [
    "by_letter"
   ]
  },
  {
   "cell_type": "code",
   "execution_count": 57,
   "id": "8e6f179a",
   "metadata": {},
   "outputs": [
    {
     "data": {
      "text/plain": [
       "3714480220481726077"
      ]
     },
     "execution_count": 57,
     "metadata": {},
     "output_type": "execute_result"
    }
   ],
   "source": [
    "hash('saroj')"
   ]
  },
  {
   "cell_type": "code",
   "execution_count": 58,
   "id": "fe9f31ca",
   "metadata": {},
   "outputs": [
    {
     "data": {
      "text/plain": [
       "-1440771752368011620"
      ]
     },
     "execution_count": 58,
     "metadata": {},
     "output_type": "execute_result"
    }
   ],
   "source": [
    "hash((1,3))"
   ]
  },
  {
   "cell_type": "code",
   "execution_count": 59,
   "id": "4971d2d4",
   "metadata": {},
   "outputs": [
    {
     "data": {
      "text/plain": [
       "{1, 2, 3, 4, 5}"
      ]
     },
     "execution_count": 59,
     "metadata": {},
     "output_type": "execute_result"
    }
   ],
   "source": [
    "###########################################################\n",
    "###### SET\n",
    "set([1,3,5,3,2,4])"
   ]
  },
  {
   "cell_type": "code",
   "execution_count": 60,
   "id": "0b2f6f4d",
   "metadata": {},
   "outputs": [],
   "source": [
    "a = {1,3,4,5,7}\n",
    "b = {2,5,4,9,8}"
   ]
  },
  {
   "cell_type": "code",
   "execution_count": 61,
   "id": "4b99b9a2",
   "metadata": {},
   "outputs": [
    {
     "data": {
      "text/plain": [
       "{1, 2, 3, 4, 5, 7, 8, 9}"
      ]
     },
     "execution_count": 61,
     "metadata": {},
     "output_type": "execute_result"
    }
   ],
   "source": [
    "a.union(b)"
   ]
  },
  {
   "cell_type": "code",
   "execution_count": 62,
   "id": "35734cce",
   "metadata": {},
   "outputs": [
    {
     "data": {
      "text/plain": [
       "{1, 2, 3, 4, 5, 7, 8, 9}"
      ]
     },
     "execution_count": 62,
     "metadata": {},
     "output_type": "execute_result"
    }
   ],
   "source": [
    "a|b"
   ]
  },
  {
   "cell_type": "code",
   "execution_count": 63,
   "id": "883f6142",
   "metadata": {},
   "outputs": [
    {
     "data": {
      "text/plain": [
       "{4, 5}"
      ]
     },
     "execution_count": 63,
     "metadata": {},
     "output_type": "execute_result"
    }
   ],
   "source": [
    "a.intersection(b)"
   ]
  },
  {
   "cell_type": "code",
   "execution_count": 64,
   "id": "ad440f96",
   "metadata": {},
   "outputs": [
    {
     "data": {
      "text/plain": [
       "{4, 5}"
      ]
     },
     "execution_count": 64,
     "metadata": {},
     "output_type": "execute_result"
    }
   ],
   "source": [
    "a&b"
   ]
  },
  {
   "cell_type": "code",
   "execution_count": 65,
   "id": "4e5b9e53",
   "metadata": {},
   "outputs": [
    {
     "data": {
      "text/plain": [
       "{1, 3, 7}"
      ]
     },
     "execution_count": 65,
     "metadata": {},
     "output_type": "execute_result"
    }
   ],
   "source": [
    "a.difference(b)"
   ]
  },
  {
   "cell_type": "code",
   "execution_count": 66,
   "id": "bbb4f024",
   "metadata": {},
   "outputs": [
    {
     "data": {
      "text/plain": [
       "{2, 8, 9}"
      ]
     },
     "execution_count": 66,
     "metadata": {},
     "output_type": "execute_result"
    }
   ],
   "source": [
    "b.difference(a)"
   ]
  },
  {
   "cell_type": "code",
   "execution_count": 67,
   "id": "4121ffe5",
   "metadata": {},
   "outputs": [],
   "source": [
    "a.difference_update(b)"
   ]
  },
  {
   "cell_type": "code",
   "execution_count": 68,
   "id": "07f59c02",
   "metadata": {},
   "outputs": [],
   "source": [
    "c = a.copy()"
   ]
  },
  {
   "cell_type": "code",
   "execution_count": 69,
   "id": "14578a44",
   "metadata": {},
   "outputs": [
    {
     "data": {
      "text/plain": [
       "{1, 3, 7}"
      ]
     },
     "execution_count": 69,
     "metadata": {},
     "output_type": "execute_result"
    }
   ],
   "source": [
    "c"
   ]
  },
  {
   "cell_type": "code",
   "execution_count": 70,
   "id": "4532055d",
   "metadata": {},
   "outputs": [],
   "source": [
    "c|=b"
   ]
  },
  {
   "cell_type": "code",
   "execution_count": 71,
   "id": "5c3f7d8b",
   "metadata": {},
   "outputs": [
    {
     "data": {
      "text/plain": [
       "{1, 2, 3, 4, 5, 7, 8, 9}"
      ]
     },
     "execution_count": 71,
     "metadata": {},
     "output_type": "execute_result"
    }
   ],
   "source": [
    "c"
   ]
  },
  {
   "cell_type": "code",
   "execution_count": 72,
   "id": "083c33e3",
   "metadata": {},
   "outputs": [
    {
     "data": {
      "text/plain": [
       "{1, 3, 7}"
      ]
     },
     "execution_count": 72,
     "metadata": {},
     "output_type": "execute_result"
    }
   ],
   "source": [
    "a"
   ]
  },
  {
   "cell_type": "code",
   "execution_count": 73,
   "id": "ab601d8c",
   "metadata": {},
   "outputs": [],
   "source": [
    "d = b.copy()"
   ]
  },
  {
   "cell_type": "code",
   "execution_count": 74,
   "id": "11630301",
   "metadata": {},
   "outputs": [],
   "source": [
    "d&=a"
   ]
  },
  {
   "cell_type": "code",
   "execution_count": 75,
   "id": "601a8c83",
   "metadata": {},
   "outputs": [
    {
     "data": {
      "text/plain": [
       "set()"
      ]
     },
     "execution_count": 75,
     "metadata": {},
     "output_type": "execute_result"
    }
   ],
   "source": [
    "d"
   ]
  },
  {
   "cell_type": "code",
   "execution_count": 76,
   "id": "5b35458e",
   "metadata": {},
   "outputs": [
    {
     "data": {
      "text/plain": [
       "True"
      ]
     },
     "execution_count": 76,
     "metadata": {},
     "output_type": "execute_result"
    }
   ],
   "source": [
    "a_set = {1,4,2,6}\n",
    "d.issubset(a_set)"
   ]
  },
  {
   "cell_type": "code",
   "execution_count": 77,
   "id": "17bcbdc5",
   "metadata": {},
   "outputs": [
    {
     "data": {
      "text/plain": [
       "False"
      ]
     },
     "execution_count": 77,
     "metadata": {},
     "output_type": "execute_result"
    }
   ],
   "source": [
    "{5,7,8}.issubset(a_set)"
   ]
  },
  {
   "cell_type": "code",
   "execution_count": 78,
   "id": "3c813a9b",
   "metadata": {},
   "outputs": [
    {
     "data": {
      "text/plain": [
       "False"
      ]
     },
     "execution_count": 78,
     "metadata": {},
     "output_type": "execute_result"
    }
   ],
   "source": [
    "{1,6,7,8} == {2,4,9}"
   ]
  },
  {
   "cell_type": "code",
   "execution_count": 79,
   "id": "8feb4f58",
   "metadata": {},
   "outputs": [],
   "source": [
    "#### LIST COMPREHENSIONS\n",
    "string = ['a','bat','hat','fat', 'ass'] "
   ]
  },
  {
   "cell_type": "code",
   "execution_count": 80,
   "id": "33b8a04d",
   "metadata": {},
   "outputs": [
    {
     "data": {
      "text/plain": [
       "['BAT', 'HAT', 'FAT', 'ASS']"
      ]
     },
     "execution_count": 80,
     "metadata": {},
     "output_type": "execute_result"
    }
   ],
   "source": [
    "[x.upper()for x in string if len(x)>2]"
   ]
  },
  {
   "cell_type": "code",
   "execution_count": 81,
   "id": "a8827a14",
   "metadata": {},
   "outputs": [],
   "source": [
    "unique_len = {len(x) for x in string}"
   ]
  },
  {
   "cell_type": "code",
   "execution_count": 82,
   "id": "f9d48d78",
   "metadata": {},
   "outputs": [
    {
     "data": {
      "text/plain": [
       "{1, 3}"
      ]
     },
     "execution_count": 82,
     "metadata": {},
     "output_type": "execute_result"
    }
   ],
   "source": [
    "unique_len"
   ]
  },
  {
   "cell_type": "code",
   "execution_count": 83,
   "id": "e5d37c6f",
   "metadata": {},
   "outputs": [
    {
     "data": {
      "text/plain": [
       "{1, 3}"
      ]
     },
     "execution_count": 83,
     "metadata": {},
     "output_type": "execute_result"
    }
   ],
   "source": [
    "set(map(len,string))"
   ]
  },
  {
   "cell_type": "code",
   "execution_count": 84,
   "id": "9e922f8e",
   "metadata": {},
   "outputs": [],
   "source": [
    "loc_map = {val :index for index, val in enumerate(string)}"
   ]
  },
  {
   "cell_type": "code",
   "execution_count": 85,
   "id": "0543fa81",
   "metadata": {},
   "outputs": [
    {
     "data": {
      "text/plain": [
       "{'a': 0, 'bat': 1, 'hat': 2, 'fat': 3, 'ass': 4}"
      ]
     },
     "execution_count": 85,
     "metadata": {},
     "output_type": "execute_result"
    }
   ],
   "source": [
    "loc_map"
   ]
  },
  {
   "cell_type": "code",
   "execution_count": 86,
   "id": "218526ce",
   "metadata": {},
   "outputs": [],
   "source": [
    "#### nested comprehension\n",
    "all_data = [['johan','emily','michael','mary','steven'],['maria','juan','javier','natalia','pilar']]\n"
   ]
  },
  {
   "cell_type": "code",
   "execution_count": 87,
   "id": "0c3ac95e",
   "metadata": {},
   "outputs": [],
   "source": [
    "result = [name for names in all_data for name in names\n",
    "         if name.count('a') >= 2]"
   ]
  },
  {
   "cell_type": "code",
   "execution_count": 88,
   "id": "42d7772f",
   "metadata": {},
   "outputs": [
    {
     "data": {
      "text/plain": [
       "['maria', 'natalia']"
      ]
     },
     "execution_count": 88,
     "metadata": {},
     "output_type": "execute_result"
    }
   ],
   "source": [
    "result"
   ]
  },
  {
   "cell_type": "code",
   "execution_count": 89,
   "id": "9acb84ae",
   "metadata": {},
   "outputs": [],
   "source": [
    "some_tuples = [(1,2,3),(4,5,6),(7,8,9)]\n",
    "flattened = [x for tup in some_tuples for x in tup]"
   ]
  },
  {
   "cell_type": "code",
   "execution_count": 90,
   "id": "c576a4ca",
   "metadata": {},
   "outputs": [
    {
     "data": {
      "text/plain": [
       "[1, 2, 3, 4, 5, 6, 7, 8, 9]"
      ]
     },
     "execution_count": 90,
     "metadata": {},
     "output_type": "execute_result"
    }
   ],
   "source": [
    "flattened"
   ]
  },
  {
   "cell_type": "code",
   "execution_count": 91,
   "id": "dec760fb",
   "metadata": {},
   "outputs": [
    {
     "data": {
      "text/plain": [
       "[[1, 2, 3], [4, 5, 6], [7, 8, 9]]"
      ]
     },
     "execution_count": 91,
     "metadata": {},
     "output_type": "execute_result"
    }
   ],
   "source": [
    "[[x for x in tup] for tup in some_tuples]"
   ]
  },
  {
   "cell_type": "code",
   "execution_count": 92,
   "id": "da788546",
   "metadata": {},
   "outputs": [],
   "source": [
    "#########################################################################\n",
    "#### FUNCTIONS ################################\n",
    "\n",
    "\n",
    "def my_function(x,y,z=1.25):\n",
    "    if z > 1:\n",
    "        return z*(x+y)\n",
    "    else:\n",
    "        return z/(x+y)"
   ]
  },
  {
   "cell_type": "code",
   "execution_count": 93,
   "id": "656d7c45",
   "metadata": {},
   "outputs": [
    {
     "data": {
      "text/plain": [
       "13.75"
      ]
     },
     "execution_count": 93,
     "metadata": {},
     "output_type": "execute_result"
    }
   ],
   "source": [
    "my_function(5,6)"
   ]
  },
  {
   "cell_type": "code",
   "execution_count": 94,
   "id": "a7a613eb",
   "metadata": {},
   "outputs": [
    {
     "data": {
      "text/plain": [
       "0.0690335305719921"
      ]
     },
     "execution_count": 94,
     "metadata": {},
     "output_type": "execute_result"
    }
   ],
   "source": [
    "my_function(3.14,7,0.7)"
   ]
  },
  {
   "cell_type": "code",
   "execution_count": 95,
   "id": "84dfc1e8",
   "metadata": {},
   "outputs": [
    {
     "data": {
      "text/plain": [
       "117"
      ]
     },
     "execution_count": 95,
     "metadata": {},
     "output_type": "execute_result"
    }
   ],
   "source": [
    "my_function(x=5, y=8, z=9)"
   ]
  },
  {
   "cell_type": "code",
   "execution_count": 96,
   "id": "76420f5a",
   "metadata": {},
   "outputs": [],
   "source": [
    "def func():\n",
    "    a = []\n",
    "    for i in range(5):\n",
    "        a.append(i)"
   ]
  },
  {
   "cell_type": "code",
   "execution_count": 100,
   "id": "02d99129",
   "metadata": {},
   "outputs": [
    {
     "name": "stdout",
     "output_type": "stream",
     "text": [
      "[]\n"
     ]
    }
   ],
   "source": [
    "print(a)"
   ]
  },
  {
   "cell_type": "code",
   "execution_count": 98,
   "id": "2d37f619",
   "metadata": {},
   "outputs": [],
   "source": [
    "a = []\n",
    "def func():\n",
    "    for i in range(5):\n",
    "        a.append(i)"
   ]
  },
  {
   "cell_type": "code",
   "execution_count": 99,
   "id": "520b687c",
   "metadata": {},
   "outputs": [
    {
     "name": "stdout",
     "output_type": "stream",
     "text": [
      "[]\n"
     ]
    }
   ],
   "source": [
    "print(a)"
   ]
  },
  {
   "cell_type": "code",
   "execution_count": 101,
   "id": "626a1906",
   "metadata": {},
   "outputs": [],
   "source": [
    "a = None"
   ]
  },
  {
   "cell_type": "code",
   "execution_count": 102,
   "id": "8c354913",
   "metadata": {},
   "outputs": [],
   "source": [
    "def bind_a_variable():\n",
    "    global a\n",
    "    a = []\n",
    "bind_a_variable()"
   ]
  },
  {
   "cell_type": "code",
   "execution_count": 103,
   "id": "7b2a76d6",
   "metadata": {},
   "outputs": [
    {
     "name": "stdout",
     "output_type": "stream",
     "text": [
      "[]\n"
     ]
    }
   ],
   "source": [
    "print(a)"
   ]
  },
  {
   "cell_type": "code",
   "execution_count": null,
   "id": "f5586c72",
   "metadata": {},
   "outputs": [],
   "source": []
  }
 ],
 "metadata": {
  "kernelspec": {
   "display_name": "Python 3 (ipykernel)",
   "language": "python",
   "name": "python3"
  },
  "language_info": {
   "codemirror_mode": {
    "name": "ipython",
    "version": 3
   },
   "file_extension": ".py",
   "mimetype": "text/x-python",
   "name": "python",
   "nbconvert_exporter": "python",
   "pygments_lexer": "ipython3",
   "version": "3.9.7"
  }
 },
 "nbformat": 4,
 "nbformat_minor": 5
}
